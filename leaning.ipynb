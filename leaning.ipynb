{
 "cells": [
  {
   "cell_type": "markdown",
   "metadata": {},
   "source": [
    "## 1分足ヒストリカルデータの読み込み\n",
    "\n",
    "[HistData.com](http://www.histdata.com) でダウンロードできるCSVデータは、EST（-0500）時間なので、日本時間に直すために、-14時間オフセットする。"
   ]
  },
  {
   "cell_type": "code",
   "execution_count": 76,
   "metadata": {},
   "outputs": [
    {
     "name": "stdout",
     "output_type": "stream",
     "text": [
      "                        open     high      low    close  volume\n",
      "time                                                           \n",
      "2017-01-01 12:00:00  116.858  116.870  116.858  116.870       0\n",
      "2017-01-01 12:01:00  116.875  116.915  116.875  116.901       0\n",
      "2017-01-01 12:02:00  116.901  116.901  116.901  116.901       0\n",
      "2017-01-01 12:03:00  116.901  116.906  116.897  116.900       0\n",
      "2017-01-01 12:04:00  116.900  116.903  116.900  116.903       0\n",
      "2017-01-01 12:05:00  116.901  116.901  116.895  116.895       0\n",
      "2017-01-01 12:06:00  116.893  116.897  116.893  116.897       0\n",
      "2017-01-01 12:07:00  116.900  116.900  116.900  116.900       0\n",
      "2017-01-01 12:10:00  116.894  116.900  116.894  116.900       0\n",
      "2017-01-01 12:11:00  116.900  116.900  116.897  116.897       0\n"
     ]
    }
   ],
   "source": [
    "import pandas\n",
    "df_1mn = pandas.read_csv(\n",
    "    \"C:\\\\Users\\\\katsu\\\\Documents\\\\git_work\\\\learnfx\\\\data\\\\DAT_ASCII_USDJPY_M1_2017.csv\",\n",
    "    sep=';',\n",
    "    names=('time','open','high','low','close', 'volume'),\n",
    "    index_col='time', parse_dates=True\n",
    ")\n",
    "df_1mn.index += pandas.offsets.Hour(-14)\n",
    "print(df_1mn.head(10))"
   ]
  },
  {
   "cell_type": "markdown",
   "metadata": {},
   "source": [
    "## 1分足→日足の変換\n",
    "\n",
    "```df.resample('D').ohlc()``` とやりたくなるが、これだとうまくいかない。\n",
    "[https://qiita.com/u1and0/items/8e7bcaaf3668ed2afee1](https://qiita.com/u1and0/items/8e7bcaaf3668ed2afee1)\n",
    "また、```df.resample('D')```のところで、日曜日などの市場が空いていない日にはNaNが埋め込みされてしまうので、```df.dropna(inplace=True)```で削除する。\n",
    "```df.resample('D')```で引数を'D'ではなく'H'にすれば時間足となる。"
   ]
  },
  {
   "cell_type": "code",
   "execution_count": 77,
   "metadata": {},
   "outputs": [
    {
     "name": "stdout",
     "output_type": "stream",
     "text": [
      "               open     high      low    close  volume\n",
      "time                                                  \n",
      "2017-01-01  116.858  117.498  116.858  117.458       0\n",
      "2017-01-02  117.465  118.605  117.201  117.589       0\n",
      "2017-01-03  117.590  118.184  117.052  117.403       0\n",
      "2017-01-04  117.405  117.751  115.218  115.533       0\n",
      "2017-01-05  115.530  117.179  115.069  117.166       0\n",
      "2017-01-06  117.170  117.172  116.913  116.947       0\n",
      "2017-01-08  117.002  117.531  115.958  116.276       0\n",
      "2017-01-09  116.278  116.343  115.196  115.719       0\n",
      "2017-01-10  115.718  116.870  114.244  114.989       0\n",
      "2017-01-11  114.992  115.627  113.755  114.284       0\n"
     ]
    }
   ],
   "source": [
    "res = df_1mn.resample('D')\n",
    "df_1dy = res.agg({\n",
    "    'open': 'first',\n",
    "    'high': 'max',\n",
    "    'low': 'min',\n",
    "    'close': 'last',\n",
    "    'volume': 'sum'\n",
    "})\n",
    "df_1dy.dropna(inplace=True)\n",
    "print(df_1dy.head(10))"
   ]
  },
  {
   "cell_type": "markdown",
   "metadata": {},
   "source": [
    "## ボリンジャーバンドの計算\n",
    "\n",
    "window=20 で20日間のサンプリング幅となる。"
   ]
  },
  {
   "cell_type": "code",
   "execution_count": 78,
   "metadata": {},
   "outputs": [
    {
     "name": "stdout",
     "output_type": "stream",
     "text": [
      "              close       mean       std\n",
      "time                                    \n",
      "2017-04-27  111.395  109.91485  1.102554\n",
      "2017-04-28  111.479  109.94315  1.136271\n",
      "2017-04-30  111.846  109.96900  1.174690\n",
      "2017-05-01  112.095  110.02085  1.246008\n",
      "2017-05-02  112.368  110.09155  1.338431\n"
     ]
    }
   ],
   "source": [
    "bband_1dy = pandas.DataFrame()\n",
    "bband_1dy['close'] = df_1dy['close']\n",
    "move20 = df_1dy['close'].rolling(window=20)\n",
    "bband_1dy['mean'] = move20.mean()\n",
    "bband_1dy['std'] = move20.std()\n",
    "print (bband_1dy[100:105])"
   ]
  },
  {
   "cell_type": "markdown",
   "metadata": {},
   "source": [
    "## 複数の通貨ペアを一つのデータフレームに読み込む\n",
    "\n",
    "ここでは、closeデータのみを取得する。"
   ]
  },
  {
   "cell_type": "code",
   "execution_count": 79,
   "metadata": {},
   "outputs": [
    {
     "name": "stdout",
     "output_type": "stream",
     "text": [
      "                usd      eur      gbp     aud     nzd      chf\n",
      "time                                                          \n",
      "2017-01-01  117.458  122.870  144.236  84.333  81.481  114.728\n",
      "2017-01-02  117.589  122.466  143.903  84.975  81.421  114.462\n",
      "2017-01-03  117.403  123.005  144.711  85.374  81.593  114.838\n",
      "2017-01-04  115.533  122.467  143.571  84.840  81.179  114.348\n",
      "2017-01-05  117.166  123.328  143.690  85.403  81.485  115.110\n"
     ]
    }
   ],
   "source": [
    "import pandas\n",
    "\n",
    "def load_hist(f):\n",
    "    import pandas\n",
    "    df_1mn = pandas.read_csv(\n",
    "        f,\n",
    "        sep=';',\n",
    "        names=('time','open','high','low','close', 'volume'),\n",
    "        index_col='time', parse_dates=True\n",
    "    )\n",
    "    df_1mn.index += pandas.offsets.Hour(-14)\n",
    "    res = df_1mn.resample('D')\n",
    "    df_1dy = res.agg({\n",
    "        'open': 'first',\n",
    "        'high': 'max',\n",
    "        'low': 'min',\n",
    "        'close': 'last',\n",
    "        'volume': 'sum'\n",
    "    })\n",
    "    df_1dy.dropna(inplace=True)\n",
    "    return df_1dy\n",
    "\n",
    "def get_merged(**fs):\n",
    "    import pandas\n",
    "    dfs = pandas.DataFrame()\n",
    "    for k, v in fs.items():\n",
    "        df = load_hist(v)\n",
    "        dfs[k] = df[\"close\"]\n",
    "    return dfs\n",
    "\n",
    "dfs_1dy = get_merged(\n",
    "    usd=\"C:\\\\Users\\\\katsu\\\\Documents\\\\git_work\\\\learnfx\\\\data\\\\DAT_ASCII_USDJPY_M1_2017.csv\",\n",
    "    eur=\"C:\\\\Users\\\\katsu\\\\Documents\\\\git_work\\\\learnfx\\\\data\\\\DAT_ASCII_EURJPY_M1_2017.csv\",\n",
    "    gbp=\"C:\\\\Users\\\\katsu\\\\Documents\\\\git_work\\\\learnfx\\\\data\\\\DAT_ASCII_GBPJPY_M1_2017.csv\",\n",
    "    aud=\"C:\\\\Users\\\\katsu\\\\Documents\\\\git_work\\\\learnfx\\\\data\\\\DAT_ASCII_AUDJPY_M1_2017.csv\",\n",
    "    nzd=\"C:\\\\Users\\\\katsu\\\\Documents\\\\git_work\\\\learnfx\\\\data\\\\DAT_ASCII_NZDJPY_M1_2017.csv\",\n",
    "    chf=\"C:\\\\Users\\\\katsu\\\\Documents\\\\git_work\\\\learnfx\\\\data\\\\DAT_ASCII_CHFJPY_M1_2017.csv\"\n",
    ")\n",
    "print(dfs_1dy.head(5))"
   ]
  },
  {
   "cell_type": "markdown",
   "metadata": {},
   "source": [
    "## 複数通貨データをEOF解析してみる\n",
    "\n",
    "まずは、上で読み込んだ複数通貨の日変化データに欠損が入っているといけないので、それを消したうえで、Numpy Array に変換する。"
   ]
  },
  {
   "cell_type": "code",
   "execution_count": 80,
   "metadata": {},
   "outputs": [
    {
     "name": "stdout",
     "output_type": "stream",
     "text": [
      "['2017-01-01T00:00:00.000000000' '2017-01-02T00:00:00.000000000'\n",
      " '2017-01-03T00:00:00.000000000' '2017-01-04T00:00:00.000000000'\n",
      " '2017-01-05T00:00:00.000000000']\n",
      "['usd' 'eur' 'gbp' 'aud' 'nzd' 'chf']\n",
      "[[117.458 122.87  144.236  84.333  81.481 114.728]\n",
      " [117.589 122.466 143.903  84.975  81.421 114.462]\n",
      " [117.403 123.005 144.711  85.374  81.593 114.838]\n",
      " [115.533 122.467 143.571  84.84   81.179 114.348]\n",
      " [117.166 123.328 143.69   85.403  81.485 115.11 ]]\n"
     ]
    }
   ],
   "source": [
    "import numpy as np\n",
    "_dfs_1dy = dfs_1dy.dropna()\n",
    "time_1dy = np.array(_dfs_1dy.index, dtype=np.datetime64)\n",
    "xs = np.array(_dfs_1dy.columns)\n",
    "nd_1dy = _dfs_1dy.values\n",
    "print(time_1dy[:5])\n",
    "print(xs)\n",
    "print(nd_1dy[:5])"
   ]
  },
  {
   "cell_type": "markdown",
   "metadata": {},
   "source": [
    "また、EOF解析のために、各Columnを規格化しておく。"
   ]
  },
  {
   "cell_type": "code",
   "execution_count": 81,
   "metadata": {},
   "outputs": [],
   "source": [
    "for j in range(nd_1dy.shape[1]):\n",
    "    nd_1dy[:, j] /= nd_1dy[:, j].std()"
   ]
  },
  {
   "cell_type": "markdown",
   "metadata": {},
   "source": [
    "EOF解析はscikitlernに同封されている関数を使う。"
   ]
  },
  {
   "cell_type": "code",
   "execution_count": 82,
   "metadata": {},
   "outputs": [],
   "source": [
    "from sklearn.decomposition import PCA\n",
    "\n",
    "pca = PCA()\n",
    "pca.fit(nd_1dy)\n",
    "eof = pca.fit_transform(nd_1dy)"
   ]
  },
  {
   "cell_type": "markdown",
   "metadata": {},
   "source": [
    "寄与率を確認してみる。"
   ]
  },
  {
   "cell_type": "code",
   "execution_count": 83,
   "metadata": {},
   "outputs": [
    {
     "data": {
      "text/plain": [
       "Text(0,0.5,'explained variance ratio')"
      ]
     },
     "execution_count": 83,
     "metadata": {},
     "output_type": "execute_result"
    },
    {
     "data": {
      "image/png": "[encoded data removed]",
      "text/plain": [
       "<Figure size 432x288 with 1 Axes>"
      ]
     },
     "metadata": {
      "needs_background": "light"
     },
     "output_type": "display_data"
    }
   ],
   "source": [
    "import matplotlib.pyplot as plt\n",
    "plt.plot(\n",
    "    np.arange(pca.explained_variance_ratio_.size) + 1,\n",
    "    pca.explained_variance_ratio_\n",
    ")\n",
    "plt.xlabel(\"mode\")\n",
    "plt.ylabel(\"explained variance ratio\")"
   ]
  },
  {
   "cell_type": "markdown",
   "metadata": {},
   "source": [
    "第二モードまでで、全体の9割の変動を説明できそう。\n",
    "\n",
    "そこで、第二モードまでのEOFとその時間関数を確認してみる。"
   ]
  },
  {
   "cell_type": "code",
   "execution_count": 84,
   "metadata": {},
   "outputs": [
    {
     "data": {
      "image/png": "[encoded data removed]",
      "text/plain": [
       "<Figure size 432x288 with 4 Axes>"
      ]
     },
     "metadata": {
      "needs_background": "light"
     },
     "output_type": "display_data"
    }
   ],
   "source": [
    "import matplotlib.pyplot as plt\n",
    "\n",
    "# EOF mode1\n",
    "plt.subplot(3, 2, 1)\n",
    "plt.bar(xs, pca.components_[0])\n",
    "plt.axhline(y=0, color='k')\n",
    "\n",
    "# EOF mode2\n",
    "plt.subplot(3, 2, 2)\n",
    "plt.bar(xs, pca.components_[1])\n",
    "plt.axhline(y=0, color='k')\n",
    "\n",
    "# PC1\n",
    "plt.subplot(3, 1, 2)\n",
    "plt.plot(time_1dy, eof[:, 0])\n",
    "plt.axhline(y=0, color='k')\n",
    "\n",
    "# PC2\n",
    "plt.subplot(3, 1, 3)\n",
    "plt.plot(time_1dy, eof[:, 1])\n",
    "plt.axhline(y=0, color='k')\n",
    "\n",
    "plt.tight_layout()"
   ]
  },
  {
   "cell_type": "markdown",
   "metadata": {},
   "source": [
    "取引高はUSDJPYが選んだ通過ペアの中で断トツだと思うので、第一モードはJPYが各通貨ペアに対して相対的に上昇（下降）したかを表していて、第二モードは、その相対変化からの変位を表しているということかな。\n",
    "なので、AUDやNZDは円高（円安）時には、より強烈に円高（円安）が進行しやすくて、逆に、EURやGBPはやや円高（円安）の進行は抑えられたような値動きとなるということかな。"
   ]
  },
  {
   "cell_type": "markdown",
   "metadata": {},
   "source": [
    "## 名目実効為替レートの読み込み\n",
    "\n",
    "為替レートだと、結局のところ一番取引高の大きいペアに引っ張られてしまうようなので、名目実効為替レートをEOFを求めるということをやってみる。\n",
    "ここでは、[https://www.bis.org/statistics/eer.htm?m=6%7C381%7C676](https://www.bis.org/statistics/eer.htm?m=6%7C381%7C676) でダウンロードした実効為替レートを読み込む。\n",
    "\n",
    "まずは、ヘッダーのみ読み込んでみる。"
   ]
  },
  {
   "cell_type": "code",
   "execution_count": 48,
   "metadata": {},
   "outputs": [
    {
     "name": "stdout",
     "output_type": "stream",
     "text": [
      "               0                        1                       2   \\\n",
      "0       Frequency                  D:Daily                 D:Daily   \n",
      "1            Type                N:Nominal               N:Nominal   \n",
      "2          Basket   B:Broad (61 economies)  B:Broad (61 economies)   \n",
      "3  Reference area  AE:United Arab Emirates            AR:Argentina   \n",
      "4     Time Period                 D:N:B:AE                D:N:B:AR   \n",
      "\n",
      "                       3                       4                       5   \\\n",
      "0                 D:Daily                 D:Daily                 D:Daily   \n",
      "1               N:Nominal               N:Nominal               N:Nominal   \n",
      "2  B:Broad (61 economies)  B:Broad (61 economies)  B:Broad (61 economies)   \n",
      "3              AT:Austria            AU:Australia              BE:Belgium   \n",
      "4                D:N:B:AT                D:N:B:AU                D:N:B:BE   \n",
      "\n",
      "                       6                       7                       8   \\\n",
      "0                 D:Daily                 D:Daily                 D:Daily   \n",
      "1               N:Nominal               N:Nominal               N:Nominal   \n",
      "2  B:Broad (61 economies)  B:Broad (61 economies)  B:Broad (61 economies)   \n",
      "3             BG:Bulgaria               BR:Brazil               CA:Canada   \n",
      "4                D:N:B:BG                D:N:B:BR                D:N:B:CA   \n",
      "\n",
      "                       9            ...                                  78  \\\n",
      "0                 D:Daily           ...                             D:Daily   \n",
      "1               N:Nominal           ...                           N:Nominal   \n",
      "2  B:Broad (61 economies)           ...             N:Narrow (27 economies)   \n",
      "3          CH:Switzerland           ...                            KR:Korea   \n",
      "4                D:N:B:CH           ...                            D:N:N:KR   \n",
      "\n",
      "                        79                       80                       81  \\\n",
      "0                  D:Daily                  D:Daily                  D:Daily   \n",
      "1                N:Nominal                N:Nominal                N:Nominal   \n",
      "2  N:Narrow (27 economies)  N:Narrow (27 economies)  N:Narrow (27 economies)   \n",
      "3           NL:Netherlands                NO:Norway           NZ:New Zealand   \n",
      "4                 D:N:N:NL                 D:N:N:NO                 D:N:N:NZ   \n",
      "\n",
      "                        82                       83                       84  \\\n",
      "0                  D:Daily                  D:Daily                  D:Daily   \n",
      "1                N:Nominal                N:Nominal                N:Nominal   \n",
      "2  N:Narrow (27 economies)  N:Narrow (27 economies)  N:Narrow (27 economies)   \n",
      "3              PT:Portugal                SE:Sweden             SG:Singapore   \n",
      "4                 D:N:N:PT                 D:N:N:SE                 D:N:N:SG   \n",
      "\n",
      "                        85                       86                       87  \n",
      "0                  D:Daily                  D:Daily                  D:Daily  \n",
      "1                N:Nominal                N:Nominal                N:Nominal  \n",
      "2  N:Narrow (27 economies)  N:Narrow (27 economies)  N:Narrow (27 economies)  \n",
      "3        TW:Chinese Taipei         US:United States             XM:Euro area  \n",
      "4                 D:N:N:TW                 D:N:N:US                 D:N:N:XM  \n",
      "\n",
      "[5 rows x 88 columns]\n"
     ]
    }
   ],
   "source": [
    "import pandas\n",
    "\n",
    "header = pandas.read_csv(\n",
    "    \"C:\\\\Users\\\\katsu\\\\Documents\\\\git_work\\\\learnfx\\\\data\\\\WEBSTATS_EER_D_DATAFLOW_csv_row.csv\",\n",
    "    header=None, nrows=5\n",
    ")\n",
    "print(header)"
   ]
  },
  {
   "cell_type": "markdown",
   "metadata": {},
   "source": [
    "どうやら以下のような略字の組み合わせが5行目に書かれているみたい。\n",
    "\n",
    "Interval: D (Daily)\n",
    "\n",
    "Type: N (Nominal)\n",
    "\n",
    "Basket: B (Broad), N (Narrow)\n",
    "\n",
    "Area: 地域名（United States ならUSのような感じ）\n",
    "\n",
    "ここで、BasketはBroadだと実質、Narrowだと名目ということになる。\n",
    "\n",
    "ヘッダー構造が分かったので、5行目をヘッダーとして読み込む。"
   ]
  },
  {
   "cell_type": "code",
   "execution_count": 56,
   "metadata": {
    "scrolled": true
   },
   "outputs": [
    {
     "name": "stdout",
     "output_type": "stream",
     "text": [
      "             D:N:B:AE  D:N:B:AR  D:N:B:AT  D:N:B:AU  D:N:B:BE  D:N:B:BG  \\\n",
      "Time Period                                                               \n",
      "1983-10-03        NaN       NaN       NaN       NaN       NaN       NaN   \n",
      "\n",
      "             D:N:B:BR  D:N:B:CA  D:N:B:CH  D:N:B:CL    ...     D:N:N:KR  \\\n",
      "Time Period                                            ...                \n",
      "1983-10-03        NaN       NaN       NaN       NaN    ...       229.09   \n",
      "\n",
      "             D:N:N:NL  D:N:N:NO  D:N:N:NZ  D:N:N:PT  D:N:N:SE  D:N:N:SG  \\\n",
      "Time Period                                                               \n",
      "1983-10-03      84.59    115.73    124.38    175.24    133.23     90.86   \n",
      "\n",
      "             D:N:N:TW  D:N:N:US  D:N:N:XM  \n",
      "Time Period                                \n",
      "1983-10-03     119.19    152.67     86.28  \n",
      "\n",
      "[1 rows x 87 columns]\n"
     ]
    }
   ],
   "source": [
    "import pandas\n",
    "\n",
    "erate = pandas.read_csv(\n",
    "    \"C:\\\\Users\\\\katsu\\\\Documents\\\\git_work\\\\learnfx\\\\data\\\\WEBSTATS_EER_D_DATAFLOW_csv_row.csv\",\n",
    "    header=4, index_col='Time Period', parse_dates=True\n",
    ")\n",
    "print(erate.head(1))"
   ]
  },
  {
   "cell_type": "markdown",
   "metadata": {},
   "source": [
    "あとは、必要な期間と国（通貨）のみ取り出す。\n",
    "国名は略字となっていて、アメリカドル（US）、円（JP）、オーストラリアドル（AU）、ニュージーランドドル（NZ）、イギリスポンド（GB）、ユーロ（XM）、スイスフラン（CH）となっている。\n",
    "そのままだとちょっと分かりにくい名前なので、名前も付け替えておく。"
   ]
  },
  {
   "cell_type": "code",
   "execution_count": 61,
   "metadata": {},
   "outputs": [
    {
     "name": "stdout",
     "output_type": "stream",
     "text": [
      "                usd    eur    jpy    gbp    aud     nzd     chf\n",
      "Time Period                                                    \n",
      "2017-01-01      NaN    NaN    NaN    NaN    NaN     NaN     NaN\n",
      "2017-01-02   124.09  89.46  82.51  95.65  90.11  115.21  123.62\n",
      "2017-01-03   124.58  89.00  82.20  96.11  90.92  115.14  123.45\n",
      "2017-01-04   123.79  89.15  82.35  95.72  91.10  115.11  123.50\n",
      "2017-01-05   123.16  89.39  82.67  95.26  91.06  114.80  123.68\n"
     ]
    }
   ],
   "source": [
    "_erate = erate.loc[\n",
    "    \"2017-01-01\": \"2017-12-31\", \n",
    "    [\"D:N:N:US\", \"D:N:N:JP\", \"D:N:N:AU\", \"D:N:N:NZ\", \"D:N:N:GB\", \"D:N:N:XM\", \"D:N:N:CH\"]\n",
    "]\n",
    "erate_ = pandas.DataFrame()\n",
    "erate_[\"usd\"] = _erate[\"D:N:N:US\"]\n",
    "erate_[\"eur\"] = _erate[\"D:N:N:XM\"]\n",
    "erate_[\"jpy\"] = _erate[\"D:N:N:JP\"]\n",
    "erate_[\"gbp\"] = _erate[\"D:N:N:GB\"]\n",
    "erate_[\"aud\"] = _erate[\"D:N:N:AU\"]\n",
    "erate_[\"nzd\"] = _erate[\"D:N:N:NZ\"]\n",
    "erate_[\"chf\"] = _erate[\"D:N:N:CH\"]\n",
    "print(erate_.head(5))"
   ]
  },
  {
   "cell_type": "markdown",
   "metadata": {},
   "source": [
    "## 名目実効為替レートのEOF解析\n",
    "\n",
    "普通の為替レートでEOF解析したときと同じ方針で、EOF解析してみる。\n",
    "まずは、欠損の除去とNumpy Array 化を行う。"
   ]
  },
  {
   "cell_type": "code",
   "execution_count": 85,
   "metadata": {},
   "outputs": [
    {
     "name": "stdout",
     "output_type": "stream",
     "text": [
      "['2017-01-02T00:00:00.000000000' '2017-01-03T00:00:00.000000000'\n",
      " '2017-01-04T00:00:00.000000000' '2017-01-05T00:00:00.000000000'\n",
      " '2017-01-06T00:00:00.000000000']\n",
      "['usd' 'eur' 'jpy' 'gbp' 'aud' 'nzd' 'chf']\n",
      "[[124.09  89.46  82.51  95.65  90.11 115.21 123.62]\n",
      " [124.58  89.    82.2   96.11  90.92 115.14 123.45]\n",
      " [123.79  89.15  82.35  95.72  91.1  115.11 123.5 ]\n",
      " [123.16  89.39  82.67  95.26  91.06 114.8  123.68]\n",
      " [122.63  89.86  82.93  95.25  91.29 115.39 123.72]]\n"
     ]
    }
   ],
   "source": [
    "import numpy as np\n",
    "\n",
    "# _dfs_1dy = erate_.diff().dropna()\n",
    "_dfs_1dy = erate_.dropna()\n",
    "time_1dy = np.array(_dfs_1dy.index, dtype=np.datetime64)\n",
    "xs = np.array(_dfs_1dy.columns)\n",
    "nd_1dy = _dfs_1dy.values\n",
    "print(time_1dy[:5])\n",
    "print(xs)\n",
    "print(nd_1dy[:5])"
   ]
  },
  {
   "cell_type": "markdown",
   "metadata": {},
   "source": [
    "各Columnを規格化する。"
   ]
  },
  {
   "cell_type": "code",
   "execution_count": 86,
   "metadata": {},
   "outputs": [],
   "source": [
    "for j in range(nd_1dy.shape[1]):\n",
    "    nd_1dy[:, j] /= nd_1dy[:, j].std()"
   ]
  },
  {
   "cell_type": "markdown",
   "metadata": {},
   "source": [
    "EOF解析を実行する。"
   ]
  },
  {
   "cell_type": "code",
   "execution_count": 87,
   "metadata": {},
   "outputs": [],
   "source": [
    "from sklearn.decomposition import PCA\n",
    "\n",
    "pca = PCA()\n",
    "pca.fit(nd_1dy)\n",
    "eof = pca.fit_transform(nd_1dy)"
   ]
  },
  {
   "cell_type": "markdown",
   "metadata": {},
   "source": [
    "寄与率を確認してみる。"
   ]
  },
  {
   "cell_type": "code",
   "execution_count": 88,
   "metadata": {},
   "outputs": [
    {
     "data": {
      "text/plain": [
       "Text(0,0.5,'explained variance ratio')"
      ]
     },
     "execution_count": 88,
     "metadata": {},
     "output_type": "execute_result"
    },
    {
     "data": {
      "image/png": "[encoded data removed]",
      "text/plain": [
       "<Figure size 432x288 with 1 Axes>"
      ]
     },
     "metadata": {
      "needs_background": "light"
     },
     "output_type": "display_data"
    }
   ],
   "source": [
    "import matplotlib.pyplot as plt\n",
    "plt.plot(\n",
    "    np.arange(pca.explained_variance_ratio_.size) + 1,\n",
    "    pca.explained_variance_ratio_\n",
    ")\n",
    "plt.xlabel(\"mode\")\n",
    "plt.ylabel(\"explained variance ratio\")"
   ]
  },
  {
   "cell_type": "markdown",
   "metadata": {},
   "source": [
    "今度は、第3モードまでみれば良さそう。"
   ]
  },
  {
   "cell_type": "code",
   "execution_count": 89,
   "metadata": {},
   "outputs": [
    {
     "data": {
      "image/png": "[encoded data removed]",
      "text/plain": [
       "<Figure size 432x288 with 6 Axes>"
      ]
     },
     "metadata": {
      "needs_background": "light"
     },
     "output_type": "display_data"
    }
   ],
   "source": [
    "import matplotlib.pyplot as plt\n",
    "\n",
    "# EOF mode1\n",
    "plt.subplot(4, 3, 1)\n",
    "plt.bar(xs, pca.components_[0])\n",
    "plt.axhline(y=0, color='k')\n",
    "\n",
    "# EOF mode2\n",
    "plt.subplot(4, 3, 2)\n",
    "plt.bar(xs, pca.components_[1])\n",
    "plt.axhline(y=0, color='k')\n",
    "\n",
    "# EOF mode3\n",
    "plt.subplot(4, 3, 3)\n",
    "plt.bar(xs, pca.components_[2])\n",
    "plt.axhline(y=0, color='k')\n",
    "\n",
    "# PC1\n",
    "plt.subplot(4, 1, 2)\n",
    "plt.plot(time_1dy, eof[:, 0])\n",
    "plt.axhline(y=0, color='k')\n",
    "\n",
    "# PC2\n",
    "plt.subplot(4, 1, 3)\n",
    "plt.plot(time_1dy, eof[:, 1])\n",
    "plt.axhline(y=0, color='k')\n",
    "\n",
    "# PC3\n",
    "plt.subplot(4, 1, 4)\n",
    "plt.plot(time_1dy, eof[:, 2])\n",
    "plt.axhline(y=0, color='k')\n",
    "\n",
    "plt.tight_layout()"
   ]
  },
  {
   "cell_type": "code",
   "execution_count": null,
   "metadata": {},
   "outputs": [],
   "source": []
  }
 ],
 "metadata": {
  "kernelspec": {
   "display_name": "Python 3",
   "language": "python",
   "name": "python3"
  },
  "language_info": {
   "codemirror_mode": {
    "name": "ipython",
    "version": 3
   },
   "file_extension": ".py",
   "mimetype": "text/x-python",
   "name": "python",
   "nbconvert_exporter": "python",
   "pygments_lexer": "ipython3",
   "version": "3.7.0"
  }
 },
 "nbformat": 4,
 "nbformat_minor": 2
}
